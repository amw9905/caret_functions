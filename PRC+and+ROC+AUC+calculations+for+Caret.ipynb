{
 "cells": [
  {
   "cell_type": "code",
   "execution_count": 11,
   "metadata": {
    "collapsed": true
   },
   "outputs": [],
   "source": [
    "# Modified from\n",
    "# http://dpmartin42.github.io/posts/r/imbalanced-classes-part-1\n",
    "# http://dpmartin42.github.io/posts/r/imbalanced-classes-part-2\n",
    "\n",
    "\n",
    "#Class1 == 0\n",
    "#Calss2 == 1\n",
    "\n",
    "library(pROC) # for ROC AUC calculations\n",
    "library(PRROC) # for PR AUC calculations\n",
    "library(caret)\n",
    "\n",
    "aucSummary <- function(data, lev = NULL, model = NULL){\n",
    "  \n",
    "  index_class2 <- data$obs == \"Class2\"\n",
    "  index_class1 <- data$obs == \"Class1\"\n",
    "  \n",
    "  #calc the auc metrics\n",
    "  pr <- pr.curve(data$Class2[index_class2],\n",
    "                 data$Class2[index_class1],\n",
    "                 curve = FALSE)\n",
    "  \n",
    "  roc <- roc.curve(data$Class2[index_class2],\n",
    "                   data$Class2[index_class1],\n",
    "                   curve = FALSE)\n",
    "  \n",
    "  pr_out <- pr$auc.integral\n",
    "  \n",
    "  roc_out <- roc$auc\n",
    "  \n",
    "  obs <- data$obs\n",
    "  \n",
    "  \n",
    "  #Assign threshold\n",
    "  pre <- ifelse(data$Class2 > .5, 'Class2', 'Class1')\n",
    "  \n",
    "  #Calculate Accuracy  \n",
    "  acc <- mean(obs == pre)\n",
    "  \n",
    "  out <- c(pr_out,roc_out,acc)  \n",
    "  \n",
    "  names(out) <-c(\"AUPRC\",\"AUROC\",\"Accuracy\")\n",
    "  \n",
    "  out  \n",
    "}"
   ]
  },
  {
   "cell_type": "code",
   "execution_count": 12,
   "metadata": {
    "collapsed": true
   },
   "outputs": [],
   "source": [
    "train <- twoClassSim(500,\n",
    "                           intercept = 0,\n",
    "                           linearVars = 10,\n",
    "                           noiseVars = 5)"
   ]
  },
  {
   "cell_type": "code",
   "execution_count": 14,
   "metadata": {},
   "outputs": [
    {
     "data": {
      "text/plain": [
       "Random Forest \n",
       "\n",
       "500 samples\n",
       " 20 predictor\n",
       "  2 classes: 'Class1', 'Class2' \n",
       "\n",
       "No pre-processing\n",
       "Resampling: Cross-Validated (4 fold, repeated 2 times) \n",
       "Summary of sample sizes: 375, 375, 375, 375, 375, 375, ... \n",
       "Resampling results across tuning parameters:\n",
       "\n",
       "  mtry  AUPRC      AUROC      Accuracy\n",
       "   2    0.9648250  0.9205313  0.775   \n",
       "  11    0.9649962  0.9217022  0.849   \n",
       "  20    0.9610269  0.9139089  0.844   \n",
       "\n",
       "AUPRC was used to select the optimal model using  the largest value.\n",
       "The final value used for the model was mtry = 11."
      ]
     },
     "metadata": {},
     "output_type": "display_data"
    }
   ],
   "source": [
    "ctrl <- trainControl(method = \"repeatedcv\",\n",
    "                     number = 4,\n",
    "                     repeats = 2,\n",
    "                     summaryFunction = aucSummary,\n",
    "                     classProbs = TRUE)\n",
    "\n",
    "fit <- train(Class ~ .,\n",
    "                  data = train,\n",
    "                  method = \"rf\",\n",
    "                  verbose = FALSE,\n",
    "                  trControl = ctrl,\n",
    "                  metric = \"AUPRC\",\n",
    "                  parallel= TRUE)\n",
    "\n",
    "fit"
   ]
  },
  {
   "cell_type": "code",
   "execution_count": null,
   "metadata": {
    "collapsed": true
   },
   "outputs": [],
   "source": []
  }
 ],
 "metadata": {
  "kernelspec": {
   "display_name": "R",
   "language": "R",
   "name": "ir"
  },
  "language_info": {
   "codemirror_mode": "r",
   "file_extension": ".r",
   "mimetype": "text/x-r-source",
   "name": "R",
   "pygments_lexer": "r",
   "version": "3.4.2"
  }
 },
 "nbformat": 4,
 "nbformat_minor": 2
}
